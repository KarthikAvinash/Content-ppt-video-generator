{
 "cells": [
  {
   "cell_type": "code",
   "execution_count": 2,
   "metadata": {},
   "outputs": [
    {
     "data": {
      "text/plain": [
       "{'1': 3, '2': 11, '3': 9}"
      ]
     },
     "execution_count": 2,
     "metadata": {},
     "output_type": "execute_result"
    }
   ],
   "source": [
    "import re\n",
    "\n",
    "def parse_response_file(filepath):\n",
    "    instructions_count = {}\n",
    "    slide_num_pattern = re.compile(r'\"Slide (\\d+)\": \\[')  # Regex to capture Slide <number> pattern\n",
    "    instructions_pattern = re.compile(r'\"instructions\"')  # Pattern to identify 'instructions'\n",
    "\n",
    "    with open(filepath, 'r', encoding='ISO-8859-1') as file:\n",
    "        content = file.readlines()\n",
    "\n",
    "    current_slide = None\n",
    "    instruction_lines = 0\n",
    "\n",
    "    for line in content:\n",
    "        # Check for the start of a new slide\n",
    "        slide_match = slide_num_pattern.search(line)\n",
    "        if slide_match:\n",
    "            # Save the count for the previous slide if applicable\n",
    "            if current_slide is not None:\n",
    "                instructions_count[current_slide] = instruction_lines\n",
    "\n",
    "            # Reset for the new slide\n",
    "            current_slide = slide_match.group(1)\n",
    "            instruction_lines = 0  # Reset instruction count for the new slide\n",
    "\n",
    "        # Check if the line contains the word 'instructions'\n",
    "        if instructions_pattern.search(line):\n",
    "            instruction_lines += 1\n",
    "\n",
    "    # For the last slide after the loop ends\n",
    "    if current_slide is not None:\n",
    "        instructions_count[current_slide] = instruction_lines\n",
    "\n",
    "    return instructions_count\n",
    "\n",
    "parse_response_file(\"response.txt\")"
   ]
  },
  {
   "cell_type": "code",
   "execution_count": 3,
   "metadata": {},
   "outputs": [
    {
     "data": {
      "text/plain": [
       "23"
      ]
     },
     "execution_count": 3,
     "metadata": {},
     "output_type": "execute_result"
    }
   ],
   "source": [
    "3+11+9"
   ]
  },
  {
   "cell_type": "code",
   "execution_count": null,
   "metadata": {},
   "outputs": [],
   "source": []
  }
 ],
 "metadata": {
  "kernelspec": {
   "display_name": "kar",
   "language": "python",
   "name": "python3"
  },
  "language_info": {
   "codemirror_mode": {
    "name": "ipython",
    "version": 3
   },
   "file_extension": ".py",
   "mimetype": "text/x-python",
   "name": "python",
   "nbconvert_exporter": "python",
   "pygments_lexer": "ipython3",
   "version": "3.12.3"
  }
 },
 "nbformat": 4,
 "nbformat_minor": 2
}
