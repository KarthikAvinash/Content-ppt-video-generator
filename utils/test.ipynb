{
 "cells": [
  {
   "cell_type": "code",
   "execution_count": 3,
   "metadata": {},
   "outputs": [
    {
     "name": "stdout",
     "output_type": "stream",
     "text": [
      "Files:  ['slide001_sentence001.wav', 'slide001_sentence002.wav']\n",
      "Saved images/slide001.png\n",
      "Saved images/slide002.png\n",
      "Saved images/slide003.png\n",
      "img source:  slide001.png\n",
      "slide number:  1\n",
      "slide_duration:  6.64\n",
      "Moviepy - Building video bg_vids\\slide001_sentence001.mp4.\n",
      "Moviepy - Writing video bg_vids\\slide001_sentence001.mp4\n",
      "\n"
     ]
    },
    {
     "name": "stderr",
     "output_type": "stream",
     "text": [
      "                                                               \r"
     ]
    },
    {
     "name": "stdout",
     "output_type": "stream",
     "text": [
      "Moviepy - Done !\n",
      "Moviepy - video ready bg_vids\\slide001_sentence001.mp4\n",
      "img source:  slide001.png\n",
      "slide number:  1\n",
      "slide_duration:  9.52\n",
      "Moviepy - Building video bg_vids\\slide001_sentence002.mp4.\n",
      "Moviepy - Writing video bg_vids\\slide001_sentence002.mp4\n",
      "\n"
     ]
    },
    {
     "name": "stderr",
     "output_type": "stream",
     "text": [
      "                                                               \r"
     ]
    },
    {
     "name": "stdout",
     "output_type": "stream",
     "text": [
      "Moviepy - Done !\n",
      "Moviepy - video ready bg_vids\\slide001_sentence002.mp4\n"
     ]
    },
    {
     "name": "stderr",
     "output_type": "stream",
     "text": [
      "Processing frames:  99%|█████████▉| 194/195 [03:37<00:01,  1.12s/it]\n"
     ]
    },
    {
     "name": "stdout",
     "output_type": "stream",
     "text": [
      "done with storing the frames:  processed_files/avt_videos\\slide001_sentence001.mp4\n",
      "audio path:  slide001_sentence001.mp4\n"
     ]
    },
    {
     "name": "stderr",
     "output_type": "stream",
     "text": [
      "Processing Frames: 100%|██████████| 200/200 [00:17<00:00, 11.23it/s]\n"
     ]
    },
    {
     "name": "stdout",
     "output_type": "stream",
     "text": [
      "Moviepy - Building video fin_videos\\slide001_sentence001.mp4.\n",
      "MoviePy - Writing audio in slide001_sentence001TEMP_MPY_wvf_snd.mp3\n"
     ]
    },
    {
     "name": "stderr",
     "output_type": "stream",
     "text": [
      "                                                                   \r"
     ]
    },
    {
     "name": "stdout",
     "output_type": "stream",
     "text": [
      "MoviePy - Done.\n",
      "Moviepy - Writing video fin_videos\\slide001_sentence001.mp4\n",
      "\n"
     ]
    },
    {
     "name": "stderr",
     "output_type": "stream",
     "text": [
      "                                                               \r"
     ]
    },
    {
     "name": "stdout",
     "output_type": "stream",
     "text": [
      "Moviepy - Done !\n",
      "Moviepy - video ready fin_videos\\slide001_sentence001.mp4\n"
     ]
    },
    {
     "name": "stderr",
     "output_type": "stream",
     "text": [
      "Processing frames: 100%|█████████▉| 281/282 [05:35<00:01,  1.19s/it]\n"
     ]
    },
    {
     "name": "stdout",
     "output_type": "stream",
     "text": [
      "done with storing the frames:  processed_files/avt_videos\\slide001_sentence002.mp4\n",
      "audio path:  slide001_sentence002.mp4\n"
     ]
    },
    {
     "name": "stderr",
     "output_type": "stream",
     "text": [
      "Processing Frames: 100%|██████████| 286/286 [00:20<00:00, 13.79it/s]\n"
     ]
    },
    {
     "name": "stdout",
     "output_type": "stream",
     "text": [
      "Moviepy - Building video fin_videos\\slide001_sentence002.mp4.\n",
      "MoviePy - Writing audio in slide001_sentence002TEMP_MPY_wvf_snd.mp3\n"
     ]
    },
    {
     "name": "stderr",
     "output_type": "stream",
     "text": [
      "                                                                   \r"
     ]
    },
    {
     "name": "stdout",
     "output_type": "stream",
     "text": [
      "MoviePy - Done.\n",
      "Moviepy - Writing video fin_videos\\slide001_sentence002.mp4\n",
      "\n"
     ]
    },
    {
     "name": "stderr",
     "output_type": "stream",
     "text": [
      "                                                               \r"
     ]
    },
    {
     "name": "stdout",
     "output_type": "stream",
     "text": [
      "Moviepy - Done !\n",
      "Moviepy - video ready fin_videos\\slide001_sentence002.mp4\n",
      "Moviepy - Building video final_video.mp4.\n",
      "MoviePy - Writing audio in final_videoTEMP_MPY_wvf_snd.mp3\n"
     ]
    },
    {
     "name": "stderr",
     "output_type": "stream",
     "text": [
      "                                                                   \r"
     ]
    },
    {
     "name": "stdout",
     "output_type": "stream",
     "text": [
      "MoviePy - Done.\n",
      "Moviepy - Writing video final_video.mp4\n",
      "\n"
     ]
    },
    {
     "name": "stderr",
     "output_type": "stream",
     "text": [
      "                                                              \r"
     ]
    },
    {
     "name": "stdout",
     "output_type": "stream",
     "text": [
      "Moviepy - Done !\n",
      "Moviepy - video ready final_video.mp4\n"
     ]
    }
   ],
   "source": [
    "import streamlit as st\n",
    "import zipfile\n",
    "import os\n",
    "import shutil\n",
    "import cv2\n",
    "from avatar_util_functions import *\n",
    "from video_util_functions import delete_folder_and_create, convert_to_images\n",
    "\n",
    "# Usage example\n",
    "slides_pdf = \"processed_files/slides.pdf\" # take input from ui and save it in this destination. If this destination alreasy exists, then delete and recreate that.\n",
    "audios_dir = \"processed_files/audios\" # This audios should be uploaded from a zip file. Take the zip file as input, and get all the audios from that directory and store it in this directory, if it does not exist create this dir. if already exists, delete and then create it and save.\n",
    "avt_vid_dir = \"processed_files/avt_videos\" # this also a zip. same as before one.\n",
    "reference_video = \"processed_files/reference.mp4\" # this also a video uploaded directly and stored in this location.\n",
    "durations, slide_durations = get_audio_durations(audios_dir)\n",
    "bg_vid_dir = \"bg_vids\"\n",
    "combined_videos = \"fin_videos\"\n",
    "temp_frames_store = \"temp_frames_store\"\n",
    "avatar_height = 380\n",
    "final_video = \"final_video.mp4\"\n",
    "slides_img_dir = \"images\"\n",
    "# @@@@@@@@@@@@@@@@@@@\n",
    "\n",
    "cap = cv2.VideoCapture(reference_video)\n",
    "ref_fps = cap.get(cv2.CAP_PROP_FPS)\n",
    "cap.release()\n",
    "\n",
    "refresh_dir(bg_vid_dir)\n",
    "refresh_dir(combined_videos)\n",
    "\n",
    "delete_folder_and_create(slides_img_dir)\n",
    "convert_to_images(pdf_file_path=slides_pdf, images_dir=slides_img_dir)\n",
    "\n",
    "for idx, vid in enumerate(os.listdir(avt_vid_dir)):\n",
    "    img_source = vid[:8]+\".png\"\n",
    "    print(\"img source: \", img_source)\n",
    "    slide_number = int(img_source[5:8]) \n",
    "    print(\"slide number: \",slide_number)\n",
    "    slide_duration = durations[idx]\n",
    "    print(\"slide_duration: \",slide_duration)\n",
    "    image_path = os.path.join(slides_img_dir,img_source)\n",
    "    output_video_path = os.path.join(bg_vid_dir,vid)\n",
    "    create_video_from_image(image_path=image_path,output_video_path=output_video_path,duration=slide_duration, fps = ref_fps)\n",
    "\n",
    "# @@@@@@@@@@@@@\n",
    "\n",
    "for avt_file in os.listdir(avt_vid_dir):\n",
    "    avtr_file = os.path.join(avt_vid_dir, avt_file)\n",
    "    save_frames(input_video_path=avtr_file, frames_store_dir=temp_frames_store, threshold=20)\n",
    "    print(\"done with storing the frames: \", avtr_file)\n",
    "    video_path = os.path.join(bg_vid_dir, avt_file)\n",
    "    output_video_path = os.path.join(combined_videos, avt_file)\n",
    "    audio_path = os.path.join(audios_dir,avt_file.split(\".\")[0]+\".wav\")\n",
    "    print(\"audio path: \", avt_file)\n",
    "    # overlay_images_on_video(video_path=video_path, frames_dir=temp_frames_store, output_video_path=output_video_path, overlay_height=avatar_height,audio_path=video_path, ref_fps=ref_fps)\n",
    "    overlay_images_on_video(video_path=video_path, frames_dir=temp_frames_store, output_video_path=output_video_path, audio_path = audio_path, overlay_height= 380, ref_fps=30)\n",
    "#@@@@@@@@@@@@@@@@@@@@\n",
    "\n",
    "process_and_concat_videos(combined_videos_dir=combined_videos, output_file=final_video, seconds_to_remove=1)\n"
   ]
  },
  {
   "cell_type": "code",
   "execution_count": null,
   "metadata": {},
   "outputs": [],
   "source": []
  }
 ],
 "metadata": {
  "kernelspec": {
   "display_name": "kar",
   "language": "python",
   "name": "python3"
  },
  "language_info": {
   "codemirror_mode": {
    "name": "ipython",
    "version": 3
   },
   "file_extension": ".py",
   "mimetype": "text/x-python",
   "name": "python",
   "nbconvert_exporter": "python",
   "pygments_lexer": "ipython3",
   "version": "3.12.3"
  }
 },
 "nbformat": 4,
 "nbformat_minor": 2
}
